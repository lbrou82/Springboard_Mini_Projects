{
 "cells": [
  {
   "cell_type": "markdown",
   "metadata": {},
   "source": [
    "This exercise will require you to pull some data from the Qunadl API. Qaundl is currently the most widely used aggregator of financial market data."
   ]
  },
  {
   "cell_type": "markdown",
   "metadata": {},
   "source": [
    "As a first step, you will need to register a free account on the http://www.quandl.com website."
   ]
  },
  {
   "cell_type": "markdown",
   "metadata": {},
   "source": [
    "After you register, you will be provided with a unique API key, that you should store:"
   ]
  },
  {
   "cell_type": "code",
   "execution_count": 1,
   "metadata": {},
   "outputs": [],
   "source": [
    "# Store the API key as a string - according to PEP8, constants are always named in all upper case\n",
    "API_KEY = ''"
   ]
  },
  {
   "cell_type": "markdown",
   "metadata": {},
   "source": [
    "Qaundl has a large number of data sources, but, unfortunately, most of them require a Premium subscription. Still, there are also a good number of free datasets."
   ]
  },
  {
   "cell_type": "markdown",
   "metadata": {},
   "source": [
    "For this mini project, we will focus on equities data from the Frankfurt Stock Exhange (FSE), which is available for free. We'll try and analyze the stock prices of a company called Carl Zeiss Meditec, which manufactures tools for eye examinations, as well as medical lasers for laser eye surgery: https://www.zeiss.com/meditec/int/home.html. The company is listed under the stock ticker AFX_X."
   ]
  },
  {
   "cell_type": "markdown",
   "metadata": {},
   "source": [
    "You can find the detailed Quandl API instructions here: https://docs.quandl.com/docs/time-series"
   ]
  },
  {
   "cell_type": "markdown",
   "metadata": {},
   "source": [
    "While there is a dedicated Python package for connecting to the Quandl API, we would prefer that you use the *requests* package, which can be easily downloaded using *pip* or *conda*. You can find the documentation for the package here: http://docs.python-requests.org/en/master/ "
   ]
  },
  {
   "cell_type": "markdown",
   "metadata": {},
   "source": [
    "Finally, apart from the *requests* package, you are encouraged to not use any third party Python packages, such as *pandas*, and instead focus on what's available in the Python Standard Library (the *collections* module might come in handy: https://pymotw.com/3/collections/ ).\n",
    "Also, since you won't have access to DataFrames, you are encouraged to us Python's native data structures - preferably dictionaries, though some questions can also be answered using lists.\n",
    "You can read more on these data structures here: https://docs.python.org/3/tutorial/datastructures.html"
   ]
  },
  {
   "cell_type": "markdown",
   "metadata": {},
   "source": [
    "Keep in mind that the JSON responses you will be getting from the API map almost one-to-one to Python's dictionaries. Unfortunately, they can be very nested, so make sure you read up on indexing dictionaries in the documentation provided above."
   ]
  },
  {
   "cell_type": "code",
   "execution_count": 2,
   "metadata": {},
   "outputs": [],
   "source": [
    "# First, import the relevant modules\n",
    "import requests\n",
    "import json"
   ]
  },
  {
   "cell_type": "code",
   "execution_count": 3,
   "metadata": {},
   "outputs": [],
   "source": [
    "# Now, call the Quandl API and pull out a small sample of the data (only one day) to get a glimpse\n",
    "# into the JSON structure that will be returned\n",
    "\n",
    "#set URL for AFX_X data \n",
    "url = 'https://www.quandl.com/api/v3/datasets/FSE/AFX_X.json'"
   ]
  },
  {
   "cell_type": "code",
   "execution_count": 4,
   "metadata": {},
   "outputs": [],
   "source": [
    "#set test parameters for one day of data\n",
    "params_test = dict(start_date='2020-02-04',end_date='2020-02-04',key=API_KEY)\n",
    "r = requests.get(url,params=params_test)"
   ]
  },
  {
   "cell_type": "code",
   "execution_count": 5,
   "metadata": {
    "scrolled": true
   },
   "outputs": [
    {
     "name": "stdout",
     "output_type": "stream",
     "text": [
      "{\n",
      " \"dataset\": {\n",
      "  \"id\": 10095370,\n",
      "  \"dataset_code\": \"AFX_X\",\n",
      "  \"database_code\": \"FSE\",\n",
      "  \"name\": \"Carl Zeiss Meditec (AFX_X)\",\n",
      "  \"description\": \"Stock Prices for Carl Zeiss Meditec (2020-01-22) from the Frankfurt Stock Exchange.<br><br>Trading System: Xetra<br><br>ISIN: DE0005313704\",\n",
      "  \"refreshed_at\": \"2020-02-05T22:17:04.307Z\",\n",
      "  \"newest_available_date\": \"2020-02-05\",\n",
      "  \"oldest_available_date\": \"2000-06-07\",\n",
      "  \"column_names\": [\n",
      "   \"Date\",\n",
      "   \"Open\",\n",
      "   \"High\",\n",
      "   \"Low\",\n",
      "   \"Close\",\n",
      "   \"Change\",\n",
      "   \"Traded Volume\",\n",
      "   \"Turnover\",\n",
      "   \"Last Price of the Day\",\n",
      "   \"Daily Traded Units\",\n",
      "   \"Daily Turnover\"\n",
      "  ],\n",
      "  \"frequency\": \"daily\",\n",
      "  \"type\": \"Time Series\",\n",
      "  \"premium\": false,\n",
      "  \"limit\": null,\n",
      "  \"transform\": null,\n",
      "  \"column_index\": null,\n",
      "  \"start_date\": \"2020-02-04\",\n",
      "  \"end_date\": \"2020-02-04\",\n",
      "  \"data\": [\n",
      "   [\n",
      "    \"2020-02-04\",\n",
      "    112.1,\n",
      "    115.7,\n",
      "    111.7,\n",
      "    115.0,\n",
      "    null,\n",
      "    214584.0,\n",
      "    24603160.0,\n",
      "    null,\n",
      "    null,\n",
      "    null\n",
      "   ]\n",
      "  ],\n",
      "  \"collapse\": null,\n",
      "  \"order\": null,\n",
      "  \"database_id\": 6129\n",
      " }\n",
      "}\n"
     ]
    }
   ],
   "source": [
    "# Inspect the JSON structure of the object you created, and take note of how nested it is,\n",
    "# as well as the overall structure\n",
    "\n",
    "#use built in json module to view a pretty version of file\n",
    "r_json = json.loads(r.text)\n",
    "print(json.dumps(r_json, indent=1))"
   ]
  },
  {
   "cell_type": "markdown",
   "metadata": {},
   "source": [
    "These are your tasks for this mini project:\n",
    "\n",
    "1. Collect data from the Franfurt Stock Exchange, for the ticker AFX_X, for the whole year 2017 (keep in mind that the date format is YYYY-MM-DD).\n",
    "2. Convert the returned JSON object into a Python dictionary.\n",
    "3. Calculate what the highest and lowest opening prices were for the stock in this period.\n",
    "4. What was the largest change in any one day (based on High and Low price)?\n",
    "5. What was the largest change between any two days (based on Closing Price)?\n",
    "6. What was the average daily trading volume during this year?\n",
    "7. (Optional) What was the median trading volume during this year. (Note: you may need to implement your own function for calculating the median.)"
   ]
  },
  {
   "cell_type": "markdown",
   "metadata": {
    "collapsed": true
   },
   "source": [
    "#### 1. Collect data from the Frankfurt Stock Exchange, for the ticker AFX_X, for the whole year 2017 (keep in mind that the date format is YYYY-MM-DD)."
   ]
  },
  {
   "cell_type": "code",
   "execution_count": 6,
   "metadata": {},
   "outputs": [],
   "source": [
    "#use url variable from above, update params to get 2017 dates\n",
    "params = dict(start_date='2017-01-01',end_date='2017-12-31',key=API_KEY)\n",
    "res = requests.get(url,params=params)"
   ]
  },
  {
   "cell_type": "markdown",
   "metadata": {
    "collapsed": true
   },
   "source": [
    "#### 2. Convert the returned JSON object into a Python dictionary."
   ]
  },
  {
   "cell_type": "code",
   "execution_count": 7,
   "metadata": {},
   "outputs": [],
   "source": [
    "afx_dict = res.json()"
   ]
  },
  {
   "cell_type": "code",
   "execution_count": 8,
   "metadata": {},
   "outputs": [],
   "source": [
    "#return dictionary without original \"dataset\" key\n",
    "afx_dict = afx_dict['dataset']"
   ]
  },
  {
   "cell_type": "markdown",
   "metadata": {
    "collapsed": true
   },
   "source": [
    "#### 3. Calculate what the highest and lowest opening prices were for the stock in this period."
   ]
  },
  {
   "cell_type": "code",
   "execution_count": 9,
   "metadata": {},
   "outputs": [],
   "source": [
    "#find index of opening price\n",
    "opening_idx = afx_dict['column_names'].index('Open')"
   ]
  },
  {
   "cell_type": "code",
   "execution_count": 10,
   "metadata": {},
   "outputs": [],
   "source": [
    "#create max_opening and min_opening variables\n",
    "max_opening = afx_dict['data'][0][opening_idx]\n",
    "min_opening = afx_dict['data'][0][opening_idx]"
   ]
  },
  {
   "cell_type": "code",
   "execution_count": 11,
   "metadata": {},
   "outputs": [
    {
     "name": "stdout",
     "output_type": "stream",
     "text": [
      "Highest Opening Price:  53.11\n",
      "Lowest Opening Price:  34.0\n"
     ]
    }
   ],
   "source": [
    "#loop through values in lists of \"data\" key\n",
    "\n",
    "for day in afx_dict['data']:\n",
    "    if day[opening_idx] is not None:\n",
    "        if day[opening_idx] > max_opening:\n",
    "            max_opening = day[opening_idx]\n",
    "        elif day[opening_idx] < min_opening:\n",
    "            min_opening = day[opening_idx]\n",
    "\n",
    "print(\"Highest Opening Price: \", max_opening)\n",
    "print(\"Lowest Opening Price: \", min_opening)"
   ]
  },
  {
   "cell_type": "markdown",
   "metadata": {
    "collapsed": true
   },
   "source": [
    "#### 4. What was the largest change in any one day (based on High and Low price)?"
   ]
  },
  {
   "cell_type": "code",
   "execution_count": 12,
   "metadata": {},
   "outputs": [],
   "source": [
    "#find indices of high and low prices\n",
    "high_idx = afx_dict['column_names'].index('High')\n",
    "low_idx = afx_dict['column_names'].index('Low')"
   ]
  },
  {
   "cell_type": "code",
   "execution_count": 13,
   "metadata": {},
   "outputs": [],
   "source": [
    "#create max_hi_low_diff variable to find difference between high/low of first datapoint\n",
    "max_hi_low_diff = abs(afx_dict['data'][0][high_idx] - afx_dict['data'][0][high_idx])    "
   ]
  },
  {
   "cell_type": "code",
   "execution_count": 14,
   "metadata": {},
   "outputs": [],
   "source": [
    "#loop through values in data and compare each high/low pair\n",
    "for day in afx_dict['data']:\n",
    "    hi_low_diff = abs(day[high_idx] - day[low_idx])\n",
    "    if hi_low_diff > max_hi_low_diff:\n",
    "        max_hi_low_diff = hi_low_diff"
   ]
  },
  {
   "cell_type": "code",
   "execution_count": 15,
   "metadata": {},
   "outputs": [
    {
     "name": "stdout",
     "output_type": "stream",
     "text": [
      "Largest One-Day Change:  2.8\n"
     ]
    }
   ],
   "source": [
    "print(\"Largest One-Day Change: \", round(max_hi_low_diff,1))"
   ]
  },
  {
   "cell_type": "markdown",
   "metadata": {},
   "source": [
    "#### 5. What was the largest change between any two days (based on Closing Price)?"
   ]
  },
  {
   "cell_type": "code",
   "execution_count": 16,
   "metadata": {},
   "outputs": [],
   "source": [
    "#find index of Closing price\n",
    "closing_idx = afx_dict['column_names'].index('Close')"
   ]
  },
  {
   "cell_type": "code",
   "execution_count": 17,
   "metadata": {},
   "outputs": [
    {
     "name": "stdout",
     "output_type": "stream",
     "text": [
      "Max Closing Value:  53.09\n",
      "Min Closing Value:  34.06\n",
      "Largest Change Between Two Non-Consecutive Days:  19.03\n"
     ]
    }
   ],
   "source": [
    "#Method 1: for any two non-consecutive days\n",
    "\n",
    "#set min_close and max_close\n",
    "max_close = afx_dict['data'][0][closing_idx]\n",
    "min_close = afx_dict['data'][0][closing_idx]\n",
    "\n",
    "#loop through closing values in lists of \"data\" key\n",
    "for day in afx_dict['data']:\n",
    "    if day[closing_idx] is not None:\n",
    "        if day[closing_idx] > max_close:\n",
    "            max_close = day[closing_idx]\n",
    "        elif day[closing_idx] < min_close:\n",
    "            min_close = day[closing_idx]\n",
    "\n",
    "print('Max Closing Value: ', max_close)\n",
    "print('Min Closing Value: ', min_close)\n",
    "print(\"Largest Change Between Two Non-Consecutive Days: \", max_close - min_close)"
   ]
  },
  {
   "cell_type": "code",
   "execution_count": 18,
   "metadata": {},
   "outputs": [
    {
     "name": "stdout",
     "output_type": "stream",
     "text": [
      "Largest Change Between Two Consecutive Days:  2.6\n"
     ]
    }
   ],
   "source": [
    "#Method 2: for any two consecutive days (when market is open)\n",
    "\n",
    "#set default max_close_diff variable to difference between first two days\n",
    "max_close_diff = abs(afx_dict['data'][0][closing_idx] - afx_dict['data'][1][closing_idx])\n",
    "\n",
    "#count from i=0 to i=len(lists)-1, compare closing price with the one next to it\n",
    "for i in range(0,len(afx_dict['data'])-1):\n",
    "    cls1 = abs(afx_dict['data'][i][closing_idx])\n",
    "    cls2 = abs(afx_dict['data'][i+1][closing_idx])\n",
    "    if max_close_diff < abs(cls1 - cls2):\n",
    "        max_close_diff = abs(cls1 - cls2)\n",
    "print(\"Largest Change Between Two Consecutive Days: \", round(max_close_diff,1))"
   ]
  },
  {
   "cell_type": "markdown",
   "metadata": {},
   "source": [
    "#### 6. What was the average daily trading volume during this year?"
   ]
  },
  {
   "cell_type": "code",
   "execution_count": 19,
   "metadata": {},
   "outputs": [],
   "source": [
    "#find index of trading volume\n",
    "vol_idx = afx_dict['column_names'].index('Traded Volume')"
   ]
  },
  {
   "cell_type": "code",
   "execution_count": 20,
   "metadata": {},
   "outputs": [],
   "source": [
    "#create list of volumes\n",
    "afx_vols = [day[vol_idx] for day in afx_dict['data']]"
   ]
  },
  {
   "cell_type": "code",
   "execution_count": 21,
   "metadata": {},
   "outputs": [],
   "source": [
    "#loop through values in afx_vols list to sum up values\n",
    "sum = 0\n",
    "for item in afx_vols: \n",
    "    sum = item + sum"
   ]
  },
  {
   "cell_type": "code",
   "execution_count": 22,
   "metadata": {},
   "outputs": [
    {
     "name": "stdout",
     "output_type": "stream",
     "text": [
      "The Average Daily Trading Volume for 2017:  89124.3\n"
     ]
    }
   ],
   "source": [
    "#find average and print result\n",
    "avg_vol = sum/len(afx_vols)\n",
    "\n",
    "print(\"The Average Daily Trading Volume for 2017: \", round(avg_vol,1))"
   ]
  },
  {
   "cell_type": "markdown",
   "metadata": {},
   "source": [
    "#### 7. (Optional) What was the median trading volume during this year."
   ]
  },
  {
   "cell_type": "code",
   "execution_count": 23,
   "metadata": {},
   "outputs": [],
   "source": [
    "#define median function\n",
    "def median(lst): \n",
    "    srt_lst = sorted(lst)\n",
    "    num = len(lst)\n",
    "    if num % 2 != 0: #odd\n",
    "        med = srt_lst[num//2]\n",
    "    else:            #even\n",
    "        med = (srt_lst[num//2] + srt_lst[num//2 - 1])/2\n",
    "    return med"
   ]
  },
  {
   "cell_type": "code",
   "execution_count": 24,
   "metadata": {},
   "outputs": [
    {
     "name": "stdout",
     "output_type": "stream",
     "text": [
      "The Median Trading Volume for 2017:  76286.0\n"
     ]
    }
   ],
   "source": [
    "#run median function on AFX_X volumes\n",
    "print(\"The Median Trading Volume for 2017: \", median(afx_vols))"
   ]
  }
 ],
 "metadata": {
  "kernelspec": {
   "display_name": "Python 3",
   "language": "python",
   "name": "python3"
  },
  "language_info": {
   "codemirror_mode": {
    "name": "ipython",
    "version": 3
   },
   "file_extension": ".py",
   "mimetype": "text/x-python",
   "name": "python",
   "nbconvert_exporter": "python",
   "pygments_lexer": "ipython3",
   "version": "3.7.4"
  }
 },
 "nbformat": 4,
 "nbformat_minor": 2
}
